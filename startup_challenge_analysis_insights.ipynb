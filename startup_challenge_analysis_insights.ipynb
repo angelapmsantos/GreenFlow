{
 "cells": [
  {
   "cell_type": "markdown",
   "metadata": {},
   "source": [
    "# Startup Data Challenge - Insights Sustentáveis"
   ]
  },
  {
   "cell_type": "markdown",
   "metadata": {},
   "source": [
    "### Importar Dados:"
   ]
  },
  {
   "cell_type": "code",
   "execution_count": 1,
   "metadata": {},
   "outputs": [],
   "source": [
    "# Importar bibliotecas\n",
    "\n",
    "import pandas as pd\n",
    "import numpy as np\n",
    "import matplotlib.pyplot as plt\n",
    "import plotly.express as px\n",
    "import seaborn as sns\n",
    "import os\n",
    "from scipy import stats"
   ]
  },
  {
   "cell_type": "code",
   "execution_count": 2,
   "metadata": {},
   "outputs": [
    {
     "name": "stdout",
     "output_type": "stream",
     "text": [
      "Arquivo lido com sucesso.\n"
     ]
    }
   ],
   "source": [
    "# Nome do ficheiro Parquet (assumindo que está na mesma pasta)\n",
    "file_path = os.path.join(os.getcwd(), 'dados_sensores_5000.parquet')\n",
    "\n",
    "# Verificar se o arquivo existe e se temos permissões de leitura\n",
    "if os.path.exists(file_path) and os.access(file_path, os.R_OK):\n",
    "    try:\n",
    "        # Ler o ficheiro Parquet\n",
    "        df = pd.read_parquet(file_path, engine='fastparquet')\n",
    "        print(\"Arquivo lido com sucesso.\")\n",
    "    except Exception as e:\n",
    "        print(f\"Erro ao ler o arquivo: {e}\")\n",
    "else:\n",
    "    print(\"Erro: Arquivo não encontrado ou sem permissões de leitura.\")"
   ]
  },
  {
   "cell_type": "markdown",
   "metadata": {},
   "source": [
    "### Analisar o dataset:"
   ]
  },
  {
   "cell_type": "code",
   "execution_count": 3,
   "metadata": {},
   "outputs": [
    {
     "data": {
      "text/html": [
       "<div>\n",
       "<style scoped>\n",
       "    .dataframe tbody tr th:only-of-type {\n",
       "        vertical-align: middle;\n",
       "    }\n",
       "\n",
       "    .dataframe tbody tr th {\n",
       "        vertical-align: top;\n",
       "    }\n",
       "\n",
       "    .dataframe thead th {\n",
       "        text-align: right;\n",
       "    }\n",
       "</style>\n",
       "<table border=\"1\" class=\"dataframe\">\n",
       "  <thead>\n",
       "    <tr style=\"text-align: right;\">\n",
       "      <th></th>\n",
       "      <th>empresa</th>\n",
       "      <th>energia_kwh</th>\n",
       "      <th>agua_m3</th>\n",
       "      <th>co2_emissoes</th>\n",
       "      <th>setor</th>\n",
       "    </tr>\n",
       "  </thead>\n",
       "  <tbody>\n",
       "    <tr>\n",
       "      <th>0</th>\n",
       "      <td>Empresa_1</td>\n",
       "      <td>6397.10</td>\n",
       "      <td>296.58</td>\n",
       "      <td>1600.24</td>\n",
       "      <td>Educação</td>\n",
       "    </tr>\n",
       "    <tr>\n",
       "      <th>1</th>\n",
       "      <td>Empresa_2</td>\n",
       "      <td>2570.30</td>\n",
       "      <td>492.52</td>\n",
       "      <td>818.98</td>\n",
       "      <td>Saúde</td>\n",
       "    </tr>\n",
       "    <tr>\n",
       "      <th>2</th>\n",
       "      <td>Empresa_3</td>\n",
       "      <td>4166.20</td>\n",
       "      <td>158.67</td>\n",
       "      <td>2710.03</td>\n",
       "      <td>Saúde</td>\n",
       "    </tr>\n",
       "    <tr>\n",
       "      <th>3</th>\n",
       "      <td>Empresa_4</td>\n",
       "      <td>8781.75</td>\n",
       "      <td>211.74</td>\n",
       "      <td>2036.72</td>\n",
       "      <td>Educação</td>\n",
       "    </tr>\n",
       "    <tr>\n",
       "      <th>4</th>\n",
       "      <td>Empresa_5</td>\n",
       "      <td>7846.09</td>\n",
       "      <td>16.84</td>\n",
       "      <td>2179.03</td>\n",
       "      <td>Indústria</td>\n",
       "    </tr>\n",
       "  </tbody>\n",
       "</table>\n",
       "</div>"
      ],
      "text/plain": [
       "     empresa  energia_kwh  agua_m3  co2_emissoes      setor\n",
       "0  Empresa_1      6397.10   296.58       1600.24   Educação\n",
       "1  Empresa_2      2570.30   492.52        818.98      Saúde\n",
       "2  Empresa_3      4166.20   158.67       2710.03      Saúde\n",
       "3  Empresa_4      8781.75   211.74       2036.72   Educação\n",
       "4  Empresa_5      7846.09    16.84       2179.03  Indústria"
      ]
     },
     "execution_count": 3,
     "metadata": {},
     "output_type": "execute_result"
    }
   ],
   "source": [
    "#Visualizar as primeiras linhas\n",
    "df.head()"
   ]
  },
  {
   "cell_type": "code",
   "execution_count": 4,
   "metadata": {},
   "outputs": [
    {
     "data": {
      "text/plain": [
       "empresa          object\n",
       "energia_kwh     float64\n",
       "agua_m3         float64\n",
       "co2_emissoes    float64\n",
       "setor            object\n",
       "dtype: object"
      ]
     },
     "execution_count": 4,
     "metadata": {},
     "output_type": "execute_result"
    }
   ],
   "source": [
    "#Verificar os tipos de dados das colunas\n",
    "df.dtypes"
   ]
  },
  {
   "cell_type": "code",
   "execution_count": 5,
   "metadata": {},
   "outputs": [
    {
     "data": {
      "text/plain": [
       "(5000, 5)"
      ]
     },
     "execution_count": 5,
     "metadata": {},
     "output_type": "execute_result"
    }
   ],
   "source": [
    "#Verificar o número de linhas e colunas\n",
    "df.shape"
   ]
  },
  {
   "cell_type": "code",
   "execution_count": 6,
   "metadata": {},
   "outputs": [
    {
     "data": {
      "text/html": [
       "<div>\n",
       "<style scoped>\n",
       "    .dataframe tbody tr th:only-of-type {\n",
       "        vertical-align: middle;\n",
       "    }\n",
       "\n",
       "    .dataframe tbody tr th {\n",
       "        vertical-align: top;\n",
       "    }\n",
       "\n",
       "    .dataframe thead th {\n",
       "        text-align: right;\n",
       "    }\n",
       "</style>\n",
       "<table border=\"1\" class=\"dataframe\">\n",
       "  <thead>\n",
       "    <tr style=\"text-align: right;\">\n",
       "      <th></th>\n",
       "      <th>energia_kwh</th>\n",
       "      <th>agua_m3</th>\n",
       "      <th>co2_emissoes</th>\n",
       "    </tr>\n",
       "  </thead>\n",
       "  <tbody>\n",
       "    <tr>\n",
       "      <th>count</th>\n",
       "      <td>5000.000000</td>\n",
       "      <td>5000.000000</td>\n",
       "      <td>5000.000000</td>\n",
       "    </tr>\n",
       "    <tr>\n",
       "      <th>mean</th>\n",
       "      <td>4982.012088</td>\n",
       "      <td>254.591516</td>\n",
       "      <td>1507.816080</td>\n",
       "    </tr>\n",
       "    <tr>\n",
       "      <th>std</th>\n",
       "      <td>2821.081316</td>\n",
       "      <td>139.225517</td>\n",
       "      <td>849.554449</td>\n",
       "    </tr>\n",
       "    <tr>\n",
       "      <th>min</th>\n",
       "      <td>100.620000</td>\n",
       "      <td>10.120000</td>\n",
       "      <td>51.120000</td>\n",
       "    </tr>\n",
       "    <tr>\n",
       "      <th>25%</th>\n",
       "      <td>2581.745000</td>\n",
       "      <td>138.082500</td>\n",
       "      <td>774.130000</td>\n",
       "    </tr>\n",
       "    <tr>\n",
       "      <th>50%</th>\n",
       "      <td>4936.540000</td>\n",
       "      <td>250.895000</td>\n",
       "      <td>1492.695000</td>\n",
       "    </tr>\n",
       "    <tr>\n",
       "      <th>75%</th>\n",
       "      <td>7425.097500</td>\n",
       "      <td>373.512500</td>\n",
       "      <td>2258.457500</td>\n",
       "    </tr>\n",
       "    <tr>\n",
       "      <th>max</th>\n",
       "      <td>9993.800000</td>\n",
       "      <td>499.760000</td>\n",
       "      <td>2999.640000</td>\n",
       "    </tr>\n",
       "  </tbody>\n",
       "</table>\n",
       "</div>"
      ],
      "text/plain": [
       "       energia_kwh      agua_m3  co2_emissoes\n",
       "count  5000.000000  5000.000000   5000.000000\n",
       "mean   4982.012088   254.591516   1507.816080\n",
       "std    2821.081316   139.225517    849.554449\n",
       "min     100.620000    10.120000     51.120000\n",
       "25%    2581.745000   138.082500    774.130000\n",
       "50%    4936.540000   250.895000   1492.695000\n",
       "75%    7425.097500   373.512500   2258.457500\n",
       "max    9993.800000   499.760000   2999.640000"
      ]
     },
     "execution_count": 6,
     "metadata": {},
     "output_type": "execute_result"
    }
   ],
   "source": [
    "#Verificar o resumo estatístico\n",
    "df.describe()"
   ]
  },
  {
   "cell_type": "code",
   "execution_count": 7,
   "metadata": {},
   "outputs": [
    {
     "name": "stdout",
     "output_type": "stream",
     "text": [
      "<class 'pandas.core.frame.DataFrame'>\n",
      "RangeIndex: 5000 entries, 0 to 4999\n",
      "Data columns (total 5 columns):\n",
      " #   Column        Non-Null Count  Dtype  \n",
      "---  ------        --------------  -----  \n",
      " 0   empresa       5000 non-null   object \n",
      " 1   energia_kwh   5000 non-null   float64\n",
      " 2   agua_m3       5000 non-null   float64\n",
      " 3   co2_emissoes  5000 non-null   float64\n",
      " 4   setor         5000 non-null   object \n",
      "dtypes: float64(3), object(2)\n",
      "memory usage: 195.4+ KB\n"
     ]
    }
   ],
   "source": [
    "# Exibir tipos de dados e colunas em formato de tabela\n",
    "df.info()"
   ]
  },
  {
   "cell_type": "code",
   "execution_count": 8,
   "metadata": {},
   "outputs": [
    {
     "name": "stdout",
     "output_type": "stream",
     "text": [
      "Valores nulos por coluna:\n",
      "empresa         0\n",
      "energia_kwh     0\n",
      "agua_m3         0\n",
      "co2_emissoes    0\n",
      "setor           0\n",
      "dtype: int64\n"
     ]
    }
   ],
   "source": [
    "#Verificar valores nulos\n",
    "valores_nulos = df.isnull().sum()\n",
    "print(\"Valores nulos por coluna:\")\n",
    "print(valores_nulos)"
   ]
  },
  {
   "cell_type": "code",
   "execution_count": 9,
   "metadata": {},
   "outputs": [
    {
     "data": {
      "text/plain": [
       "array(['Educação', 'Saúde', 'Indústria', 'Alimentação', 'Serviços',\n",
       "       'Varejo'], dtype=object)"
      ]
     },
     "execution_count": 9,
     "metadata": {},
     "output_type": "execute_result"
    }
   ],
   "source": [
    "#Verificar valores únicos\n",
    "df['empresa'].unique()\n",
    "\n",
    "df['setor'].unique()"
   ]
  },
  {
   "cell_type": "code",
   "execution_count": 10,
   "metadata": {},
   "outputs": [
    {
     "name": "stdout",
     "output_type": "stream",
     "text": [
      "Número total de linhas: 5000\n",
      "Número total de colunas: 5\n"
     ]
    }
   ],
   "source": [
    "# Obter o nº de linhas e colunas\n",
    "num_linhas = df.shape[0]\n",
    "num_colunas = df.shape[1]\n",
    "\n",
    "print(f\"Número total de linhas: {num_linhas}\")\n",
    "print(f\"Número total de colunas: {num_colunas}\")"
   ]
  },
  {
   "cell_type": "code",
   "execution_count": 11,
   "metadata": {},
   "outputs": [
    {
     "name": "stdout",
     "output_type": "stream",
     "text": [
      "\n",
      "Número de linhas duplicadas: 0\n"
     ]
    }
   ],
   "source": [
    "# Verificar duplicados\n",
    "valores_duplicados = df.duplicated().sum()\n",
    "print(f\"\\nNúmero de linhas duplicadas: {valores_duplicados}\")"
   ]
  },
  {
   "cell_type": "markdown",
   "metadata": {},
   "source": [
    "### Tratamento dos dados:"
   ]
  },
  {
   "cell_type": "code",
   "execution_count": 12,
   "metadata": {},
   "outputs": [],
   "source": [
    "#Eliminar os nulos\n",
    "df = df.dropna()\n",
    "\n",
    "#Preencher os nulos com 0\n",
    "df = df.fillna(0)"
   ]
  },
  {
   "cell_type": "code",
   "execution_count": 13,
   "metadata": {},
   "outputs": [],
   "source": [
    "#Eliminar duplicados\n",
    "df = df.drop_duplicates()"
   ]
  },
  {
   "cell_type": "code",
   "execution_count": 14,
   "metadata": {},
   "outputs": [
    {
     "data": {
      "text/html": [
       "<div>\n",
       "<style scoped>\n",
       "    .dataframe tbody tr th:only-of-type {\n",
       "        vertical-align: middle;\n",
       "    }\n",
       "\n",
       "    .dataframe tbody tr th {\n",
       "        vertical-align: top;\n",
       "    }\n",
       "\n",
       "    .dataframe thead th {\n",
       "        text-align: right;\n",
       "    }\n",
       "</style>\n",
       "<table border=\"1\" class=\"dataframe\">\n",
       "  <thead>\n",
       "    <tr style=\"text-align: right;\">\n",
       "      <th></th>\n",
       "      <th>Empresa</th>\n",
       "      <th>Energia (kWh)</th>\n",
       "      <th>Água (m3)</th>\n",
       "      <th>CO2 Emissões</th>\n",
       "      <th>Setor</th>\n",
       "    </tr>\n",
       "  </thead>\n",
       "  <tbody>\n",
       "    <tr>\n",
       "      <th>0</th>\n",
       "      <td>Empresa_1</td>\n",
       "      <td>6397.10</td>\n",
       "      <td>296.58</td>\n",
       "      <td>1600.24</td>\n",
       "      <td>Educação</td>\n",
       "    </tr>\n",
       "    <tr>\n",
       "      <th>1</th>\n",
       "      <td>Empresa_2</td>\n",
       "      <td>2570.30</td>\n",
       "      <td>492.52</td>\n",
       "      <td>818.98</td>\n",
       "      <td>Saúde</td>\n",
       "    </tr>\n",
       "    <tr>\n",
       "      <th>2</th>\n",
       "      <td>Empresa_3</td>\n",
       "      <td>4166.20</td>\n",
       "      <td>158.67</td>\n",
       "      <td>2710.03</td>\n",
       "      <td>Saúde</td>\n",
       "    </tr>\n",
       "    <tr>\n",
       "      <th>3</th>\n",
       "      <td>Empresa_4</td>\n",
       "      <td>8781.75</td>\n",
       "      <td>211.74</td>\n",
       "      <td>2036.72</td>\n",
       "      <td>Educação</td>\n",
       "    </tr>\n",
       "    <tr>\n",
       "      <th>4</th>\n",
       "      <td>Empresa_5</td>\n",
       "      <td>7846.09</td>\n",
       "      <td>16.84</td>\n",
       "      <td>2179.03</td>\n",
       "      <td>Indústria</td>\n",
       "    </tr>\n",
       "  </tbody>\n",
       "</table>\n",
       "</div>"
      ],
      "text/plain": [
       "     Empresa  Energia (kWh)  Água (m3)  CO2 Emissões      Setor\n",
       "0  Empresa_1        6397.10     296.58       1600.24   Educação\n",
       "1  Empresa_2        2570.30     492.52        818.98      Saúde\n",
       "2  Empresa_3        4166.20     158.67       2710.03      Saúde\n",
       "3  Empresa_4        8781.75     211.74       2036.72   Educação\n",
       "4  Empresa_5        7846.09      16.84       2179.03  Indústria"
      ]
     },
     "execution_count": 14,
     "metadata": {},
     "output_type": "execute_result"
    }
   ],
   "source": [
    "#Renomear as colunas\n",
    "df.rename(columns={\n",
    "    'empresa': 'Empresa',\n",
    "    'energia_kwh': 'Energia (kWh)',\n",
    "    'agua_m3': 'Água (m3)',\n",
    "    'co2_emissoes': 'CO2 Emissões',\n",
    "    'setor':'Setor'},\n",
    "         inplace=True)\n",
    "\n",
    "df.head()"
   ]
  },
  {
   "cell_type": "markdown",
   "metadata": {},
   "source": [
    "### Insights:"
   ]
  },
  {
   "cell_type": "markdown",
   "metadata": {},
   "source": [
    "#### Identificação de Outliers:"
   ]
  },
  {
   "cell_type": "code",
   "execution_count": 15,
   "metadata": {},
   "outputs": [],
   "source": [
    "# Análise do consumo médio por setor\n",
    "\n",
    "def analyze_sector_consumption(df):\n",
    "    sector_analysis = df.groupby('Setor').agg({\n",
    "        'Energia (kWh)': 'mean',\n",
    "        'Água (m3)': 'mean',\n",
    "        'CO2 Emissões': 'mean'\n",
    "    }).round(2)\n",
    "\n",
    "    print(\"\\n=== Consumo Médio por Setor ===\")\n",
    "    print(sector_analysis)\n",
    "\n",
    "    for metric in ['Energia (kWh)', 'Água (m3)', 'CO2 Emissões']:\n",
    "        fig = px.bar(sector_analysis,\n",
    "                     y=metric,\n",
    "                     title=f'Consumo Médio de {metric} por Setor',\n",
    "                     labels={metric: metric.replace(' ', ' ').title()},\n",
    "                     color_discrete_sequence=[\"darkgreen\"])  # Cor personalizada aqui\n",
    "        fig.show()"
   ]
  },
  {
   "cell_type": "code",
   "execution_count": 16,
   "metadata": {},
   "outputs": [],
   "source": [
    "# Análise dos principais consumidores por métrica\n",
    "\n",
    "def identify_top_consumers(df):\n",
    "    metrics = ['Energia (kWh)', 'Água (m3)', 'CO2 Emissões']\n",
    "    top_n = 5\n",
    "\n",
    "    print(\"\\n=== Análise dos Principais Consumidores ===\")\n",
    "    for metric in metrics:\n",
    "        print(f\"\\nTop {top_n} empresas por {metric}:\")\n",
    "        print(df.nlargest(top_n, metric)[['Empresa', 'Setor', metric]])"
   ]
  },
  {
   "cell_type": "code",
   "execution_count": 17,
   "metadata": {},
   "outputs": [],
   "source": [
    "# Análise das correlações\n",
    "\n",
    "def analyze_correlations(df):\n",
    "    correlation_matrix = df[['Energia (kWh)', 'Água (m3)', 'CO2 Emissões']].corr()\n",
    "\n",
    "    plt.figure(figsize=(10, 8))\n",
    "    sns.heatmap(correlation_matrix, annot=True, cmap='PRGn', vmin=-1, vmax=1)\n",
    "    plt.title('Correlação entre as Métricas de Consumo')\n",
    "    plt.show()"
   ]
  },
  {
   "cell_type": "code",
   "execution_count": 18,
   "metadata": {},
   "outputs": [],
   "source": [
    "# Detecção de outliers\n",
    "\n",
    "def detect_outliers(df):\n",
    "    metrics = ['Energia (kWh)', 'Água (m3)', 'CO2 Emissões']\n",
    "\n",
    "    for metric in metrics:\n",
    "        df[f'{metric}_zscore'] = (df[metric] - df[metric].mean()) / df[metric].std()\n",
    "\n",
    "        outliers = df[abs(df[f'{metric}_zscore']) > 3]\n",
    "        print(f\"\\nOutliers em {metric}:\")\n",
    "        print(outliers[['Empresa', 'Setor', metric]].head())"
   ]
  },
  {
   "cell_type": "code",
   "execution_count": 19,
   "metadata": {},
   "outputs": [],
   "source": [
    "# Comparação estatística entre setores\n",
    "\n",
    "def compare_sectors(df):\n",
    "    sectors = df['Setor'].unique()\n",
    "    metrics = ['Energia (kWh)', 'Água (m3)', 'CO2 Emissões']\n",
    "\n",
    "    for metric in metrics:\n",
    "        print(f\"\\nTeste Kruskal-Wallis para {metric}:\")\n",
    "        sector_groups = [group[metric].values for name, group in df.groupby('Setor')]\n",
    "        h_stat, p_value = stats.kruskal(*sector_groups)\n",
    "        print(f'Estatística H: {h_stat:.2f}')\n",
    "        print(f'p-valor: {p_value:.4f}')"
   ]
  },
  {
   "cell_type": "code",
   "execution_count": 20,
   "metadata": {},
   "outputs": [
    {
     "name": "stdout",
     "output_type": "stream",
     "text": [
      "=== Análise Original ===\n",
      "\n",
      "=== Consumo Médio por Setor ===\n",
      "             Energia (kWh)  Água (m3)  CO2 Emissões\n",
      "Setor                                              \n",
      "Alimentação        4820.35     257.41       1488.14\n",
      "Educação           5012.18     256.90       1561.79\n",
      "Indústria          5074.48     250.11       1494.27\n",
      "Saúde              4940.87     255.79       1475.10\n",
      "Serviços           4930.12     250.65       1517.34\n",
      "Varejo             5113.26     256.79       1513.93\n"
     ]
    },
    {
     "data": {
      "application/vnd.plotly.v1+json": {
       "config": {
        "plotlyServerURL": "https://plot.ly"
       },
       "data": [
        {
         "hovertemplate": "Setor=%{x}<br>Energia (Kwh)=%{y}<extra></extra>",
         "legendgroup": "",
         "marker": {
          "color": "darkgreen",
          "pattern": {
           "shape": ""
          }
         },
         "name": "",
         "orientation": "v",
         "showlegend": false,
         "textposition": "auto",
         "type": "bar",
         "x": [
          "Alimentação",
          "Educação",
          "Indústria",
          "Saúde",
          "Serviços",
          "Varejo"
         ],
         "xaxis": "x",
         "y": {
          "bdata": "mpmZmVnUskBI4XoULpSzQBSuR+F60rNAhetRuN5Ms0CF61G4HkKzQPYoXI9C+bNA",
          "dtype": "f8"
         },
         "yaxis": "y"
        }
       ],
       "layout": {
        "barmode": "relative",
        "legend": {
         "tracegroupgap": 0
        },
        "template": {
         "data": {
          "bar": [
           {
            "error_x": {
             "color": "#2a3f5f"
            },
            "error_y": {
             "color": "#2a3f5f"
            },
            "marker": {
             "line": {
              "color": "#E5ECF6",
              "width": 0.5
             },
             "pattern": {
              "fillmode": "overlay",
              "size": 10,
              "solidity": 0.2
             }
            },
            "type": "bar"
           }
          ],
          "barpolar": [
           {
            "marker": {
             "line": {
              "color": "#E5ECF6",
              "width": 0.5
             },
             "pattern": {
              "fillmode": "overlay",
              "size": 10,
              "solidity": 0.2
             }
            },
            "type": "barpolar"
           }
          ],
          "carpet": [
           {
            "aaxis": {
             "endlinecolor": "#2a3f5f",
             "gridcolor": "white",
             "linecolor": "white",
             "minorgridcolor": "white",
             "startlinecolor": "#2a3f5f"
            },
            "baxis": {
             "endlinecolor": "#2a3f5f",
             "gridcolor": "white",
             "linecolor": "white",
             "minorgridcolor": "white",
             "startlinecolor": "#2a3f5f"
            },
            "type": "carpet"
           }
          ],
          "choropleth": [
           {
            "colorbar": {
             "outlinewidth": 0,
             "ticks": ""
            },
            "type": "choropleth"
           }
          ],
          "contour": [
           {
            "colorbar": {
             "outlinewidth": 0,
             "ticks": ""
            },
            "colorscale": [
             [
              0,
              "#0d0887"
             ],
             [
              0.1111111111111111,
              "#46039f"
             ],
             [
              0.2222222222222222,
              "#7201a8"
             ],
             [
              0.3333333333333333,
              "#9c179e"
             ],
             [
              0.4444444444444444,
              "#bd3786"
             ],
             [
              0.5555555555555556,
              "#d8576b"
             ],
             [
              0.6666666666666666,
              "#ed7953"
             ],
             [
              0.7777777777777778,
              "#fb9f3a"
             ],
             [
              0.8888888888888888,
              "#fdca26"
             ],
             [
              1,
              "#f0f921"
             ]
            ],
            "type": "contour"
           }
          ],
          "contourcarpet": [
           {
            "colorbar": {
             "outlinewidth": 0,
             "ticks": ""
            },
            "type": "contourcarpet"
           }
          ],
          "heatmap": [
           {
            "colorbar": {
             "outlinewidth": 0,
             "ticks": ""
            },
            "colorscale": [
             [
              0,
              "#0d0887"
             ],
             [
              0.1111111111111111,
              "#46039f"
             ],
             [
              0.2222222222222222,
              "#7201a8"
             ],
             [
              0.3333333333333333,
              "#9c179e"
             ],
             [
              0.4444444444444444,
              "#bd3786"
             ],
             [
              0.5555555555555556,
              "#d8576b"
             ],
             [
              0.6666666666666666,
              "#ed7953"
             ],
             [
              0.7777777777777778,
              "#fb9f3a"
             ],
             [
              0.8888888888888888,
              "#fdca26"
             ],
             [
              1,
              "#f0f921"
             ]
            ],
            "type": "heatmap"
           }
          ],
          "histogram": [
           {
            "marker": {
             "pattern": {
              "fillmode": "overlay",
              "size": 10,
              "solidity": 0.2
             }
            },
            "type": "histogram"
           }
          ],
          "histogram2d": [
           {
            "colorbar": {
             "outlinewidth": 0,
             "ticks": ""
            },
            "colorscale": [
             [
              0,
              "#0d0887"
             ],
             [
              0.1111111111111111,
              "#46039f"
             ],
             [
              0.2222222222222222,
              "#7201a8"
             ],
             [
              0.3333333333333333,
              "#9c179e"
             ],
             [
              0.4444444444444444,
              "#bd3786"
             ],
             [
              0.5555555555555556,
              "#d8576b"
             ],
             [
              0.6666666666666666,
              "#ed7953"
             ],
             [
              0.7777777777777778,
              "#fb9f3a"
             ],
             [
              0.8888888888888888,
              "#fdca26"
             ],
             [
              1,
              "#f0f921"
             ]
            ],
            "type": "histogram2d"
           }
          ],
          "histogram2dcontour": [
           {
            "colorbar": {
             "outlinewidth": 0,
             "ticks": ""
            },
            "colorscale": [
             [
              0,
              "#0d0887"
             ],
             [
              0.1111111111111111,
              "#46039f"
             ],
             [
              0.2222222222222222,
              "#7201a8"
             ],
             [
              0.3333333333333333,
              "#9c179e"
             ],
             [
              0.4444444444444444,
              "#bd3786"
             ],
             [
              0.5555555555555556,
              "#d8576b"
             ],
             [
              0.6666666666666666,
              "#ed7953"
             ],
             [
              0.7777777777777778,
              "#fb9f3a"
             ],
             [
              0.8888888888888888,
              "#fdca26"
             ],
             [
              1,
              "#f0f921"
             ]
            ],
            "type": "histogram2dcontour"
           }
          ],
          "mesh3d": [
           {
            "colorbar": {
             "outlinewidth": 0,
             "ticks": ""
            },
            "type": "mesh3d"
           }
          ],
          "parcoords": [
           {
            "line": {
             "colorbar": {
              "outlinewidth": 0,
              "ticks": ""
             }
            },
            "type": "parcoords"
           }
          ],
          "pie": [
           {
            "automargin": true,
            "type": "pie"
           }
          ],
          "scatter": [
           {
            "fillpattern": {
             "fillmode": "overlay",
             "size": 10,
             "solidity": 0.2
            },
            "type": "scatter"
           }
          ],
          "scatter3d": [
           {
            "line": {
             "colorbar": {
              "outlinewidth": 0,
              "ticks": ""
             }
            },
            "marker": {
             "colorbar": {
              "outlinewidth": 0,
              "ticks": ""
             }
            },
            "type": "scatter3d"
           }
          ],
          "scattercarpet": [
           {
            "marker": {
             "colorbar": {
              "outlinewidth": 0,
              "ticks": ""
             }
            },
            "type": "scattercarpet"
           }
          ],
          "scattergeo": [
           {
            "marker": {
             "colorbar": {
              "outlinewidth": 0,
              "ticks": ""
             }
            },
            "type": "scattergeo"
           }
          ],
          "scattergl": [
           {
            "marker": {
             "colorbar": {
              "outlinewidth": 0,
              "ticks": ""
             }
            },
            "type": "scattergl"
           }
          ],
          "scattermap": [
           {
            "marker": {
             "colorbar": {
              "outlinewidth": 0,
              "ticks": ""
             }
            },
            "type": "scattermap"
           }
          ],
          "scattermapbox": [
           {
            "marker": {
             "colorbar": {
              "outlinewidth": 0,
              "ticks": ""
             }
            },
            "type": "scattermapbox"
           }
          ],
          "scatterpolar": [
           {
            "marker": {
             "colorbar": {
              "outlinewidth": 0,
              "ticks": ""
             }
            },
            "type": "scatterpolar"
           }
          ],
          "scatterpolargl": [
           {
            "marker": {
             "colorbar": {
              "outlinewidth": 0,
              "ticks": ""
             }
            },
            "type": "scatterpolargl"
           }
          ],
          "scatterternary": [
           {
            "marker": {
             "colorbar": {
              "outlinewidth": 0,
              "ticks": ""
             }
            },
            "type": "scatterternary"
           }
          ],
          "surface": [
           {
            "colorbar": {
             "outlinewidth": 0,
             "ticks": ""
            },
            "colorscale": [
             [
              0,
              "#0d0887"
             ],
             [
              0.1111111111111111,
              "#46039f"
             ],
             [
              0.2222222222222222,
              "#7201a8"
             ],
             [
              0.3333333333333333,
              "#9c179e"
             ],
             [
              0.4444444444444444,
              "#bd3786"
             ],
             [
              0.5555555555555556,
              "#d8576b"
             ],
             [
              0.6666666666666666,
              "#ed7953"
             ],
             [
              0.7777777777777778,
              "#fb9f3a"
             ],
             [
              0.8888888888888888,
              "#fdca26"
             ],
             [
              1,
              "#f0f921"
             ]
            ],
            "type": "surface"
           }
          ],
          "table": [
           {
            "cells": {
             "fill": {
              "color": "#EBF0F8"
             },
             "line": {
              "color": "white"
             }
            },
            "header": {
             "fill": {
              "color": "#C8D4E3"
             },
             "line": {
              "color": "white"
             }
            },
            "type": "table"
           }
          ]
         },
         "layout": {
          "annotationdefaults": {
           "arrowcolor": "#2a3f5f",
           "arrowhead": 0,
           "arrowwidth": 1
          },
          "autotypenumbers": "strict",
          "coloraxis": {
           "colorbar": {
            "outlinewidth": 0,
            "ticks": ""
           }
          },
          "colorscale": {
           "diverging": [
            [
             0,
             "#8e0152"
            ],
            [
             0.1,
             "#c51b7d"
            ],
            [
             0.2,
             "#de77ae"
            ],
            [
             0.3,
             "#f1b6da"
            ],
            [
             0.4,
             "#fde0ef"
            ],
            [
             0.5,
             "#f7f7f7"
            ],
            [
             0.6,
             "#e6f5d0"
            ],
            [
             0.7,
             "#b8e186"
            ],
            [
             0.8,
             "#7fbc41"
            ],
            [
             0.9,
             "#4d9221"
            ],
            [
             1,
             "#276419"
            ]
           ],
           "sequential": [
            [
             0,
             "#0d0887"
            ],
            [
             0.1111111111111111,
             "#46039f"
            ],
            [
             0.2222222222222222,
             "#7201a8"
            ],
            [
             0.3333333333333333,
             "#9c179e"
            ],
            [
             0.4444444444444444,
             "#bd3786"
            ],
            [
             0.5555555555555556,
             "#d8576b"
            ],
            [
             0.6666666666666666,
             "#ed7953"
            ],
            [
             0.7777777777777778,
             "#fb9f3a"
            ],
            [
             0.8888888888888888,
             "#fdca26"
            ],
            [
             1,
             "#f0f921"
            ]
           ],
           "sequentialminus": [
            [
             0,
             "#0d0887"
            ],
            [
             0.1111111111111111,
             "#46039f"
            ],
            [
             0.2222222222222222,
             "#7201a8"
            ],
            [
             0.3333333333333333,
             "#9c179e"
            ],
            [
             0.4444444444444444,
             "#bd3786"
            ],
            [
             0.5555555555555556,
             "#d8576b"
            ],
            [
             0.6666666666666666,
             "#ed7953"
            ],
            [
             0.7777777777777778,
             "#fb9f3a"
            ],
            [
             0.8888888888888888,
             "#fdca26"
            ],
            [
             1,
             "#f0f921"
            ]
           ]
          },
          "colorway": [
           "#636efa",
           "#EF553B",
           "#00cc96",
           "#ab63fa",
           "#FFA15A",
           "#19d3f3",
           "#FF6692",
           "#B6E880",
           "#FF97FF",
           "#FECB52"
          ],
          "font": {
           "color": "#2a3f5f"
          },
          "geo": {
           "bgcolor": "white",
           "lakecolor": "white",
           "landcolor": "#E5ECF6",
           "showlakes": true,
           "showland": true,
           "subunitcolor": "white"
          },
          "hoverlabel": {
           "align": "left"
          },
          "hovermode": "closest",
          "mapbox": {
           "style": "light"
          },
          "paper_bgcolor": "white",
          "plot_bgcolor": "#E5ECF6",
          "polar": {
           "angularaxis": {
            "gridcolor": "white",
            "linecolor": "white",
            "ticks": ""
           },
           "bgcolor": "#E5ECF6",
           "radialaxis": {
            "gridcolor": "white",
            "linecolor": "white",
            "ticks": ""
           }
          },
          "scene": {
           "xaxis": {
            "backgroundcolor": "#E5ECF6",
            "gridcolor": "white",
            "gridwidth": 2,
            "linecolor": "white",
            "showbackground": true,
            "ticks": "",
            "zerolinecolor": "white"
           },
           "yaxis": {
            "backgroundcolor": "#E5ECF6",
            "gridcolor": "white",
            "gridwidth": 2,
            "linecolor": "white",
            "showbackground": true,
            "ticks": "",
            "zerolinecolor": "white"
           },
           "zaxis": {
            "backgroundcolor": "#E5ECF6",
            "gridcolor": "white",
            "gridwidth": 2,
            "linecolor": "white",
            "showbackground": true,
            "ticks": "",
            "zerolinecolor": "white"
           }
          },
          "shapedefaults": {
           "line": {
            "color": "#2a3f5f"
           }
          },
          "ternary": {
           "aaxis": {
            "gridcolor": "white",
            "linecolor": "white",
            "ticks": ""
           },
           "baxis": {
            "gridcolor": "white",
            "linecolor": "white",
            "ticks": ""
           },
           "bgcolor": "#E5ECF6",
           "caxis": {
            "gridcolor": "white",
            "linecolor": "white",
            "ticks": ""
           }
          },
          "title": {
           "x": 0.05
          },
          "xaxis": {
           "automargin": true,
           "gridcolor": "white",
           "linecolor": "white",
           "ticks": "",
           "title": {
            "standoff": 15
           },
           "zerolinecolor": "white",
           "zerolinewidth": 2
          },
          "yaxis": {
           "automargin": true,
           "gridcolor": "white",
           "linecolor": "white",
           "ticks": "",
           "title": {
            "standoff": 15
           },
           "zerolinecolor": "white",
           "zerolinewidth": 2
          }
         }
        },
        "title": {
         "text": "Consumo Médio de Energia (kWh) por Setor"
        },
        "xaxis": {
         "anchor": "y",
         "domain": [
          0,
          1
         ],
         "title": {
          "text": "Setor"
         }
        },
        "yaxis": {
         "anchor": "x",
         "domain": [
          0,
          1
         ],
         "title": {
          "text": "Energia (Kwh)"
         }
        }
       }
      }
     },
     "metadata": {},
     "output_type": "display_data"
    },
    {
     "data": {
      "application/vnd.plotly.v1+json": {
       "config": {
        "plotlyServerURL": "https://plot.ly"
       },
       "data": [
        {
         "hovertemplate": "Setor=%{x}<br>Água (M3)=%{y}<extra></extra>",
         "legendgroup": "",
         "marker": {
          "color": "darkgreen",
          "pattern": {
           "shape": ""
          }
         },
         "name": "",
         "orientation": "v",
         "showlegend": false,
         "textposition": "auto",
         "type": "bar",
         "x": [
          "Alimentação",
          "Educação",
          "Indústria",
          "Saúde",
          "Serviços",
          "Varejo"
         ],
         "xaxis": "x",
         "y": {
          "bdata": "w/UoXI8WcEBmZmZmZg5wQOxRuB6FQ29A4XoUrkf5b0DNzMzMzFRvQHE9CtejDHBA",
          "dtype": "f8"
         },
         "yaxis": "y"
        }
       ],
       "layout": {
        "barmode": "relative",
        "legend": {
         "tracegroupgap": 0
        },
        "template": {
         "data": {
          "bar": [
           {
            "error_x": {
             "color": "#2a3f5f"
            },
            "error_y": {
             "color": "#2a3f5f"
            },
            "marker": {
             "line": {
              "color": "#E5ECF6",
              "width": 0.5
             },
             "pattern": {
              "fillmode": "overlay",
              "size": 10,
              "solidity": 0.2
             }
            },
            "type": "bar"
           }
          ],
          "barpolar": [
           {
            "marker": {
             "line": {
              "color": "#E5ECF6",
              "width": 0.5
             },
             "pattern": {
              "fillmode": "overlay",
              "size": 10,
              "solidity": 0.2
             }
            },
            "type": "barpolar"
           }
          ],
          "carpet": [
           {
            "aaxis": {
             "endlinecolor": "#2a3f5f",
             "gridcolor": "white",
             "linecolor": "white",
             "minorgridcolor": "white",
             "startlinecolor": "#2a3f5f"
            },
            "baxis": {
             "endlinecolor": "#2a3f5f",
             "gridcolor": "white",
             "linecolor": "white",
             "minorgridcolor": "white",
             "startlinecolor": "#2a3f5f"
            },
            "type": "carpet"
           }
          ],
          "choropleth": [
           {
            "colorbar": {
             "outlinewidth": 0,
             "ticks": ""
            },
            "type": "choropleth"
           }
          ],
          "contour": [
           {
            "colorbar": {
             "outlinewidth": 0,
             "ticks": ""
            },
            "colorscale": [
             [
              0,
              "#0d0887"
             ],
             [
              0.1111111111111111,
              "#46039f"
             ],
             [
              0.2222222222222222,
              "#7201a8"
             ],
             [
              0.3333333333333333,
              "#9c179e"
             ],
             [
              0.4444444444444444,
              "#bd3786"
             ],
             [
              0.5555555555555556,
              "#d8576b"
             ],
             [
              0.6666666666666666,
              "#ed7953"
             ],
             [
              0.7777777777777778,
              "#fb9f3a"
             ],
             [
              0.8888888888888888,
              "#fdca26"
             ],
             [
              1,
              "#f0f921"
             ]
            ],
            "type": "contour"
           }
          ],
          "contourcarpet": [
           {
            "colorbar": {
             "outlinewidth": 0,
             "ticks": ""
            },
            "type": "contourcarpet"
           }
          ],
          "heatmap": [
           {
            "colorbar": {
             "outlinewidth": 0,
             "ticks": ""
            },
            "colorscale": [
             [
              0,
              "#0d0887"
             ],
             [
              0.1111111111111111,
              "#46039f"
             ],
             [
              0.2222222222222222,
              "#7201a8"
             ],
             [
              0.3333333333333333,
              "#9c179e"
             ],
             [
              0.4444444444444444,
              "#bd3786"
             ],
             [
              0.5555555555555556,
              "#d8576b"
             ],
             [
              0.6666666666666666,
              "#ed7953"
             ],
             [
              0.7777777777777778,
              "#fb9f3a"
             ],
             [
              0.8888888888888888,
              "#fdca26"
             ],
             [
              1,
              "#f0f921"
             ]
            ],
            "type": "heatmap"
           }
          ],
          "histogram": [
           {
            "marker": {
             "pattern": {
              "fillmode": "overlay",
              "size": 10,
              "solidity": 0.2
             }
            },
            "type": "histogram"
           }
          ],
          "histogram2d": [
           {
            "colorbar": {
             "outlinewidth": 0,
             "ticks": ""
            },
            "colorscale": [
             [
              0,
              "#0d0887"
             ],
             [
              0.1111111111111111,
              "#46039f"
             ],
             [
              0.2222222222222222,
              "#7201a8"
             ],
             [
              0.3333333333333333,
              "#9c179e"
             ],
             [
              0.4444444444444444,
              "#bd3786"
             ],
             [
              0.5555555555555556,
              "#d8576b"
             ],
             [
              0.6666666666666666,
              "#ed7953"
             ],
             [
              0.7777777777777778,
              "#fb9f3a"
             ],
             [
              0.8888888888888888,
              "#fdca26"
             ],
             [
              1,
              "#f0f921"
             ]
            ],
            "type": "histogram2d"
           }
          ],
          "histogram2dcontour": [
           {
            "colorbar": {
             "outlinewidth": 0,
             "ticks": ""
            },
            "colorscale": [
             [
              0,
              "#0d0887"
             ],
             [
              0.1111111111111111,
              "#46039f"
             ],
             [
              0.2222222222222222,
              "#7201a8"
             ],
             [
              0.3333333333333333,
              "#9c179e"
             ],
             [
              0.4444444444444444,
              "#bd3786"
             ],
             [
              0.5555555555555556,
              "#d8576b"
             ],
             [
              0.6666666666666666,
              "#ed7953"
             ],
             [
              0.7777777777777778,
              "#fb9f3a"
             ],
             [
              0.8888888888888888,
              "#fdca26"
             ],
             [
              1,
              "#f0f921"
             ]
            ],
            "type": "histogram2dcontour"
           }
          ],
          "mesh3d": [
           {
            "colorbar": {
             "outlinewidth": 0,
             "ticks": ""
            },
            "type": "mesh3d"
           }
          ],
          "parcoords": [
           {
            "line": {
             "colorbar": {
              "outlinewidth": 0,
              "ticks": ""
             }
            },
            "type": "parcoords"
           }
          ],
          "pie": [
           {
            "automargin": true,
            "type": "pie"
           }
          ],
          "scatter": [
           {
            "fillpattern": {
             "fillmode": "overlay",
             "size": 10,
             "solidity": 0.2
            },
            "type": "scatter"
           }
          ],
          "scatter3d": [
           {
            "line": {
             "colorbar": {
              "outlinewidth": 0,
              "ticks": ""
             }
            },
            "marker": {
             "colorbar": {
              "outlinewidth": 0,
              "ticks": ""
             }
            },
            "type": "scatter3d"
           }
          ],
          "scattercarpet": [
           {
            "marker": {
             "colorbar": {
              "outlinewidth": 0,
              "ticks": ""
             }
            },
            "type": "scattercarpet"
           }
          ],
          "scattergeo": [
           {
            "marker": {
             "colorbar": {
              "outlinewidth": 0,
              "ticks": ""
             }
            },
            "type": "scattergeo"
           }
          ],
          "scattergl": [
           {
            "marker": {
             "colorbar": {
              "outlinewidth": 0,
              "ticks": ""
             }
            },
            "type": "scattergl"
           }
          ],
          "scattermap": [
           {
            "marker": {
             "colorbar": {
              "outlinewidth": 0,
              "ticks": ""
             }
            },
            "type": "scattermap"
           }
          ],
          "scattermapbox": [
           {
            "marker": {
             "colorbar": {
              "outlinewidth": 0,
              "ticks": ""
             }
            },
            "type": "scattermapbox"
           }
          ],
          "scatterpolar": [
           {
            "marker": {
             "colorbar": {
              "outlinewidth": 0,
              "ticks": ""
             }
            },
            "type": "scatterpolar"
           }
          ],
          "scatterpolargl": [
           {
            "marker": {
             "colorbar": {
              "outlinewidth": 0,
              "ticks": ""
             }
            },
            "type": "scatterpolargl"
           }
          ],
          "scatterternary": [
           {
            "marker": {
             "colorbar": {
              "outlinewidth": 0,
              "ticks": ""
             }
            },
            "type": "scatterternary"
           }
          ],
          "surface": [
           {
            "colorbar": {
             "outlinewidth": 0,
             "ticks": ""
            },
            "colorscale": [
             [
              0,
              "#0d0887"
             ],
             [
              0.1111111111111111,
              "#46039f"
             ],
             [
              0.2222222222222222,
              "#7201a8"
             ],
             [
              0.3333333333333333,
              "#9c179e"
             ],
             [
              0.4444444444444444,
              "#bd3786"
             ],
             [
              0.5555555555555556,
              "#d8576b"
             ],
             [
              0.6666666666666666,
              "#ed7953"
             ],
             [
              0.7777777777777778,
              "#fb9f3a"
             ],
             [
              0.8888888888888888,
              "#fdca26"
             ],
             [
              1,
              "#f0f921"
             ]
            ],
            "type": "surface"
           }
          ],
          "table": [
           {
            "cells": {
             "fill": {
              "color": "#EBF0F8"
             },
             "line": {
              "color": "white"
             }
            },
            "header": {
             "fill": {
              "color": "#C8D4E3"
             },
             "line": {
              "color": "white"
             }
            },
            "type": "table"
           }
          ]
         },
         "layout": {
          "annotationdefaults": {
           "arrowcolor": "#2a3f5f",
           "arrowhead": 0,
           "arrowwidth": 1
          },
          "autotypenumbers": "strict",
          "coloraxis": {
           "colorbar": {
            "outlinewidth": 0,
            "ticks": ""
           }
          },
          "colorscale": {
           "diverging": [
            [
             0,
             "#8e0152"
            ],
            [
             0.1,
             "#c51b7d"
            ],
            [
             0.2,
             "#de77ae"
            ],
            [
             0.3,
             "#f1b6da"
            ],
            [
             0.4,
             "#fde0ef"
            ],
            [
             0.5,
             "#f7f7f7"
            ],
            [
             0.6,
             "#e6f5d0"
            ],
            [
             0.7,
             "#b8e186"
            ],
            [
             0.8,
             "#7fbc41"
            ],
            [
             0.9,
             "#4d9221"
            ],
            [
             1,
             "#276419"
            ]
           ],
           "sequential": [
            [
             0,
             "#0d0887"
            ],
            [
             0.1111111111111111,
             "#46039f"
            ],
            [
             0.2222222222222222,
             "#7201a8"
            ],
            [
             0.3333333333333333,
             "#9c179e"
            ],
            [
             0.4444444444444444,
             "#bd3786"
            ],
            [
             0.5555555555555556,
             "#d8576b"
            ],
            [
             0.6666666666666666,
             "#ed7953"
            ],
            [
             0.7777777777777778,
             "#fb9f3a"
            ],
            [
             0.8888888888888888,
             "#fdca26"
            ],
            [
             1,
             "#f0f921"
            ]
           ],
           "sequentialminus": [
            [
             0,
             "#0d0887"
            ],
            [
             0.1111111111111111,
             "#46039f"
            ],
            [
             0.2222222222222222,
             "#7201a8"
            ],
            [
             0.3333333333333333,
             "#9c179e"
            ],
            [
             0.4444444444444444,
             "#bd3786"
            ],
            [
             0.5555555555555556,
             "#d8576b"
            ],
            [
             0.6666666666666666,
             "#ed7953"
            ],
            [
             0.7777777777777778,
             "#fb9f3a"
            ],
            [
             0.8888888888888888,
             "#fdca26"
            ],
            [
             1,
             "#f0f921"
            ]
           ]
          },
          "colorway": [
           "#636efa",
           "#EF553B",
           "#00cc96",
           "#ab63fa",
           "#FFA15A",
           "#19d3f3",
           "#FF6692",
           "#B6E880",
           "#FF97FF",
           "#FECB52"
          ],
          "font": {
           "color": "#2a3f5f"
          },
          "geo": {
           "bgcolor": "white",
           "lakecolor": "white",
           "landcolor": "#E5ECF6",
           "showlakes": true,
           "showland": true,
           "subunitcolor": "white"
          },
          "hoverlabel": {
           "align": "left"
          },
          "hovermode": "closest",
          "mapbox": {
           "style": "light"
          },
          "paper_bgcolor": "white",
          "plot_bgcolor": "#E5ECF6",
          "polar": {
           "angularaxis": {
            "gridcolor": "white",
            "linecolor": "white",
            "ticks": ""
           },
           "bgcolor": "#E5ECF6",
           "radialaxis": {
            "gridcolor": "white",
            "linecolor": "white",
            "ticks": ""
           }
          },
          "scene": {
           "xaxis": {
            "backgroundcolor": "#E5ECF6",
            "gridcolor": "white",
            "gridwidth": 2,
            "linecolor": "white",
            "showbackground": true,
            "ticks": "",
            "zerolinecolor": "white"
           },
           "yaxis": {
            "backgroundcolor": "#E5ECF6",
            "gridcolor": "white",
            "gridwidth": 2,
            "linecolor": "white",
            "showbackground": true,
            "ticks": "",
            "zerolinecolor": "white"
           },
           "zaxis": {
            "backgroundcolor": "#E5ECF6",
            "gridcolor": "white",
            "gridwidth": 2,
            "linecolor": "white",
            "showbackground": true,
            "ticks": "",
            "zerolinecolor": "white"
           }
          },
          "shapedefaults": {
           "line": {
            "color": "#2a3f5f"
           }
          },
          "ternary": {
           "aaxis": {
            "gridcolor": "white",
            "linecolor": "white",
            "ticks": ""
           },
           "baxis": {
            "gridcolor": "white",
            "linecolor": "white",
            "ticks": ""
           },
           "bgcolor": "#E5ECF6",
           "caxis": {
            "gridcolor": "white",
            "linecolor": "white",
            "ticks": ""
           }
          },
          "title": {
           "x": 0.05
          },
          "xaxis": {
           "automargin": true,
           "gridcolor": "white",
           "linecolor": "white",
           "ticks": "",
           "title": {
            "standoff": 15
           },
           "zerolinecolor": "white",
           "zerolinewidth": 2
          },
          "yaxis": {
           "automargin": true,
           "gridcolor": "white",
           "linecolor": "white",
           "ticks": "",
           "title": {
            "standoff": 15
           },
           "zerolinecolor": "white",
           "zerolinewidth": 2
          }
         }
        },
        "title": {
         "text": "Consumo Médio de Água (m3) por Setor"
        },
        "xaxis": {
         "anchor": "y",
         "domain": [
          0,
          1
         ],
         "title": {
          "text": "Setor"
         }
        },
        "yaxis": {
         "anchor": "x",
         "domain": [
          0,
          1
         ],
         "title": {
          "text": "Água (M3)"
         }
        }
       }
      }
     },
     "metadata": {},
     "output_type": "display_data"
    },
    {
     "data": {
      "application/vnd.plotly.v1+json": {
       "config": {
        "plotlyServerURL": "https://plot.ly"
       },
       "data": [
        {
         "hovertemplate": "Setor=%{x}<br>Co2 Emissões=%{y}<extra></extra>",
         "legendgroup": "",
         "marker": {
          "color": "darkgreen",
          "pattern": {
           "shape": ""
          }
         },
         "name": "",
         "orientation": "v",
         "showlegend": false,
         "textposition": "auto",
         "type": "bar",
         "x": [
          "Alimentação",
          "Educação",
          "Indústria",
          "Saúde",
          "Serviços",
          "Varejo"
         ],
         "xaxis": "x",
         "y": {
          "bdata": "w/UoXI9Al0Bcj8L1KGeYQK5H4XoUWZdAZmZmZmYMl0CPwvUoXLWXQB+F61G4p5dA",
          "dtype": "f8"
         },
         "yaxis": "y"
        }
       ],
       "layout": {
        "barmode": "relative",
        "legend": {
         "tracegroupgap": 0
        },
        "template": {
         "data": {
          "bar": [
           {
            "error_x": {
             "color": "#2a3f5f"
            },
            "error_y": {
             "color": "#2a3f5f"
            },
            "marker": {
             "line": {
              "color": "#E5ECF6",
              "width": 0.5
             },
             "pattern": {
              "fillmode": "overlay",
              "size": 10,
              "solidity": 0.2
             }
            },
            "type": "bar"
           }
          ],
          "barpolar": [
           {
            "marker": {
             "line": {
              "color": "#E5ECF6",
              "width": 0.5
             },
             "pattern": {
              "fillmode": "overlay",
              "size": 10,
              "solidity": 0.2
             }
            },
            "type": "barpolar"
           }
          ],
          "carpet": [
           {
            "aaxis": {
             "endlinecolor": "#2a3f5f",
             "gridcolor": "white",
             "linecolor": "white",
             "minorgridcolor": "white",
             "startlinecolor": "#2a3f5f"
            },
            "baxis": {
             "endlinecolor": "#2a3f5f",
             "gridcolor": "white",
             "linecolor": "white",
             "minorgridcolor": "white",
             "startlinecolor": "#2a3f5f"
            },
            "type": "carpet"
           }
          ],
          "choropleth": [
           {
            "colorbar": {
             "outlinewidth": 0,
             "ticks": ""
            },
            "type": "choropleth"
           }
          ],
          "contour": [
           {
            "colorbar": {
             "outlinewidth": 0,
             "ticks": ""
            },
            "colorscale": [
             [
              0,
              "#0d0887"
             ],
             [
              0.1111111111111111,
              "#46039f"
             ],
             [
              0.2222222222222222,
              "#7201a8"
             ],
             [
              0.3333333333333333,
              "#9c179e"
             ],
             [
              0.4444444444444444,
              "#bd3786"
             ],
             [
              0.5555555555555556,
              "#d8576b"
             ],
             [
              0.6666666666666666,
              "#ed7953"
             ],
             [
              0.7777777777777778,
              "#fb9f3a"
             ],
             [
              0.8888888888888888,
              "#fdca26"
             ],
             [
              1,
              "#f0f921"
             ]
            ],
            "type": "contour"
           }
          ],
          "contourcarpet": [
           {
            "colorbar": {
             "outlinewidth": 0,
             "ticks": ""
            },
            "type": "contourcarpet"
           }
          ],
          "heatmap": [
           {
            "colorbar": {
             "outlinewidth": 0,
             "ticks": ""
            },
            "colorscale": [
             [
              0,
              "#0d0887"
             ],
             [
              0.1111111111111111,
              "#46039f"
             ],
             [
              0.2222222222222222,
              "#7201a8"
             ],
             [
              0.3333333333333333,
              "#9c179e"
             ],
             [
              0.4444444444444444,
              "#bd3786"
             ],
             [
              0.5555555555555556,
              "#d8576b"
             ],
             [
              0.6666666666666666,
              "#ed7953"
             ],
             [
              0.7777777777777778,
              "#fb9f3a"
             ],
             [
              0.8888888888888888,
              "#fdca26"
             ],
             [
              1,
              "#f0f921"
             ]
            ],
            "type": "heatmap"
           }
          ],
          "histogram": [
           {
            "marker": {
             "pattern": {
              "fillmode": "overlay",
              "size": 10,
              "solidity": 0.2
             }
            },
            "type": "histogram"
           }
          ],
          "histogram2d": [
           {
            "colorbar": {
             "outlinewidth": 0,
             "ticks": ""
            },
            "colorscale": [
             [
              0,
              "#0d0887"
             ],
             [
              0.1111111111111111,
              "#46039f"
             ],
             [
              0.2222222222222222,
              "#7201a8"
             ],
             [
              0.3333333333333333,
              "#9c179e"
             ],
             [
              0.4444444444444444,
              "#bd3786"
             ],
             [
              0.5555555555555556,
              "#d8576b"
             ],
             [
              0.6666666666666666,
              "#ed7953"
             ],
             [
              0.7777777777777778,
              "#fb9f3a"
             ],
             [
              0.8888888888888888,
              "#fdca26"
             ],
             [
              1,
              "#f0f921"
             ]
            ],
            "type": "histogram2d"
           }
          ],
          "histogram2dcontour": [
           {
            "colorbar": {
             "outlinewidth": 0,
             "ticks": ""
            },
            "colorscale": [
             [
              0,
              "#0d0887"
             ],
             [
              0.1111111111111111,
              "#46039f"
             ],
             [
              0.2222222222222222,
              "#7201a8"
             ],
             [
              0.3333333333333333,
              "#9c179e"
             ],
             [
              0.4444444444444444,
              "#bd3786"
             ],
             [
              0.5555555555555556,
              "#d8576b"
             ],
             [
              0.6666666666666666,
              "#ed7953"
             ],
             [
              0.7777777777777778,
              "#fb9f3a"
             ],
             [
              0.8888888888888888,
              "#fdca26"
             ],
             [
              1,
              "#f0f921"
             ]
            ],
            "type": "histogram2dcontour"
           }
          ],
          "mesh3d": [
           {
            "colorbar": {
             "outlinewidth": 0,
             "ticks": ""
            },
            "type": "mesh3d"
           }
          ],
          "parcoords": [
           {
            "line": {
             "colorbar": {
              "outlinewidth": 0,
              "ticks": ""
             }
            },
            "type": "parcoords"
           }
          ],
          "pie": [
           {
            "automargin": true,
            "type": "pie"
           }
          ],
          "scatter": [
           {
            "fillpattern": {
             "fillmode": "overlay",
             "size": 10,
             "solidity": 0.2
            },
            "type": "scatter"
           }
          ],
          "scatter3d": [
           {
            "line": {
             "colorbar": {
              "outlinewidth": 0,
              "ticks": ""
             }
            },
            "marker": {
             "colorbar": {
              "outlinewidth": 0,
              "ticks": ""
             }
            },
            "type": "scatter3d"
           }
          ],
          "scattercarpet": [
           {
            "marker": {
             "colorbar": {
              "outlinewidth": 0,
              "ticks": ""
             }
            },
            "type": "scattercarpet"
           }
          ],
          "scattergeo": [
           {
            "marker": {
             "colorbar": {
              "outlinewidth": 0,
              "ticks": ""
             }
            },
            "type": "scattergeo"
           }
          ],
          "scattergl": [
           {
            "marker": {
             "colorbar": {
              "outlinewidth": 0,
              "ticks": ""
             }
            },
            "type": "scattergl"
           }
          ],
          "scattermap": [
           {
            "marker": {
             "colorbar": {
              "outlinewidth": 0,
              "ticks": ""
             }
            },
            "type": "scattermap"
           }
          ],
          "scattermapbox": [
           {
            "marker": {
             "colorbar": {
              "outlinewidth": 0,
              "ticks": ""
             }
            },
            "type": "scattermapbox"
           }
          ],
          "scatterpolar": [
           {
            "marker": {
             "colorbar": {
              "outlinewidth": 0,
              "ticks": ""
             }
            },
            "type": "scatterpolar"
           }
          ],
          "scatterpolargl": [
           {
            "marker": {
             "colorbar": {
              "outlinewidth": 0,
              "ticks": ""
             }
            },
            "type": "scatterpolargl"
           }
          ],
          "scatterternary": [
           {
            "marker": {
             "colorbar": {
              "outlinewidth": 0,
              "ticks": ""
             }
            },
            "type": "scatterternary"
           }
          ],
          "surface": [
           {
            "colorbar": {
             "outlinewidth": 0,
             "ticks": ""
            },
            "colorscale": [
             [
              0,
              "#0d0887"
             ],
             [
              0.1111111111111111,
              "#46039f"
             ],
             [
              0.2222222222222222,
              "#7201a8"
             ],
             [
              0.3333333333333333,
              "#9c179e"
             ],
             [
              0.4444444444444444,
              "#bd3786"
             ],
             [
              0.5555555555555556,
              "#d8576b"
             ],
             [
              0.6666666666666666,
              "#ed7953"
             ],
             [
              0.7777777777777778,
              "#fb9f3a"
             ],
             [
              0.8888888888888888,
              "#fdca26"
             ],
             [
              1,
              "#f0f921"
             ]
            ],
            "type": "surface"
           }
          ],
          "table": [
           {
            "cells": {
             "fill": {
              "color": "#EBF0F8"
             },
             "line": {
              "color": "white"
             }
            },
            "header": {
             "fill": {
              "color": "#C8D4E3"
             },
             "line": {
              "color": "white"
             }
            },
            "type": "table"
           }
          ]
         },
         "layout": {
          "annotationdefaults": {
           "arrowcolor": "#2a3f5f",
           "arrowhead": 0,
           "arrowwidth": 1
          },
          "autotypenumbers": "strict",
          "coloraxis": {
           "colorbar": {
            "outlinewidth": 0,
            "ticks": ""
           }
          },
          "colorscale": {
           "diverging": [
            [
             0,
             "#8e0152"
            ],
            [
             0.1,
             "#c51b7d"
            ],
            [
             0.2,
             "#de77ae"
            ],
            [
             0.3,
             "#f1b6da"
            ],
            [
             0.4,
             "#fde0ef"
            ],
            [
             0.5,
             "#f7f7f7"
            ],
            [
             0.6,
             "#e6f5d0"
            ],
            [
             0.7,
             "#b8e186"
            ],
            [
             0.8,
             "#7fbc41"
            ],
            [
             0.9,
             "#4d9221"
            ],
            [
             1,
             "#276419"
            ]
           ],
           "sequential": [
            [
             0,
             "#0d0887"
            ],
            [
             0.1111111111111111,
             "#46039f"
            ],
            [
             0.2222222222222222,
             "#7201a8"
            ],
            [
             0.3333333333333333,
             "#9c179e"
            ],
            [
             0.4444444444444444,
             "#bd3786"
            ],
            [
             0.5555555555555556,
             "#d8576b"
            ],
            [
             0.6666666666666666,
             "#ed7953"
            ],
            [
             0.7777777777777778,
             "#fb9f3a"
            ],
            [
             0.8888888888888888,
             "#fdca26"
            ],
            [
             1,
             "#f0f921"
            ]
           ],
           "sequentialminus": [
            [
             0,
             "#0d0887"
            ],
            [
             0.1111111111111111,
             "#46039f"
            ],
            [
             0.2222222222222222,
             "#7201a8"
            ],
            [
             0.3333333333333333,
             "#9c179e"
            ],
            [
             0.4444444444444444,
             "#bd3786"
            ],
            [
             0.5555555555555556,
             "#d8576b"
            ],
            [
             0.6666666666666666,
             "#ed7953"
            ],
            [
             0.7777777777777778,
             "#fb9f3a"
            ],
            [
             0.8888888888888888,
             "#fdca26"
            ],
            [
             1,
             "#f0f921"
            ]
           ]
          },
          "colorway": [
           "#636efa",
           "#EF553B",
           "#00cc96",
           "#ab63fa",
           "#FFA15A",
           "#19d3f3",
           "#FF6692",
           "#B6E880",
           "#FF97FF",
           "#FECB52"
          ],
          "font": {
           "color": "#2a3f5f"
          },
          "geo": {
           "bgcolor": "white",
           "lakecolor": "white",
           "landcolor": "#E5ECF6",
           "showlakes": true,
           "showland": true,
           "subunitcolor": "white"
          },
          "hoverlabel": {
           "align": "left"
          },
          "hovermode": "closest",
          "mapbox": {
           "style": "light"
          },
          "paper_bgcolor": "white",
          "plot_bgcolor": "#E5ECF6",
          "polar": {
           "angularaxis": {
            "gridcolor": "white",
            "linecolor": "white",
            "ticks": ""
           },
           "bgcolor": "#E5ECF6",
           "radialaxis": {
            "gridcolor": "white",
            "linecolor": "white",
            "ticks": ""
           }
          },
          "scene": {
           "xaxis": {
            "backgroundcolor": "#E5ECF6",
            "gridcolor": "white",
            "gridwidth": 2,
            "linecolor": "white",
            "showbackground": true,
            "ticks": "",
            "zerolinecolor": "white"
           },
           "yaxis": {
            "backgroundcolor": "#E5ECF6",
            "gridcolor": "white",
            "gridwidth": 2,
            "linecolor": "white",
            "showbackground": true,
            "ticks": "",
            "zerolinecolor": "white"
           },
           "zaxis": {
            "backgroundcolor": "#E5ECF6",
            "gridcolor": "white",
            "gridwidth": 2,
            "linecolor": "white",
            "showbackground": true,
            "ticks": "",
            "zerolinecolor": "white"
           }
          },
          "shapedefaults": {
           "line": {
            "color": "#2a3f5f"
           }
          },
          "ternary": {
           "aaxis": {
            "gridcolor": "white",
            "linecolor": "white",
            "ticks": ""
           },
           "baxis": {
            "gridcolor": "white",
            "linecolor": "white",
            "ticks": ""
           },
           "bgcolor": "#E5ECF6",
           "caxis": {
            "gridcolor": "white",
            "linecolor": "white",
            "ticks": ""
           }
          },
          "title": {
           "x": 0.05
          },
          "xaxis": {
           "automargin": true,
           "gridcolor": "white",
           "linecolor": "white",
           "ticks": "",
           "title": {
            "standoff": 15
           },
           "zerolinecolor": "white",
           "zerolinewidth": 2
          },
          "yaxis": {
           "automargin": true,
           "gridcolor": "white",
           "linecolor": "white",
           "ticks": "",
           "title": {
            "standoff": 15
           },
           "zerolinecolor": "white",
           "zerolinewidth": 2
          }
         }
        },
        "title": {
         "text": "Consumo Médio de CO2 Emissões por Setor"
        },
        "xaxis": {
         "anchor": "y",
         "domain": [
          0,
          1
         ],
         "title": {
          "text": "Setor"
         }
        },
        "yaxis": {
         "anchor": "x",
         "domain": [
          0,
          1
         ],
         "title": {
          "text": "Co2 Emissões"
         }
        }
       }
      }
     },
     "metadata": {},
     "output_type": "display_data"
    },
    {
     "name": "stdout",
     "output_type": "stream",
     "text": [
      "\n",
      "=== Análise dos Principais Consumidores ===\n",
      "\n",
      "Top 5 empresas por Energia (kWh):\n",
      "           Empresa      Setor  Energia (kWh)\n",
      "720    Empresa_721     Varejo        9993.80\n",
      "3844  Empresa_3845  Indústria        9993.62\n",
      "243    Empresa_244  Indústria        9988.99\n",
      "3832  Empresa_3833     Varejo        9987.98\n",
      "3398  Empresa_3399      Saúde        9986.70\n",
      "\n",
      "Top 5 empresas por Água (m3):\n",
      "           Empresa        Setor  Água (m3)\n",
      "2080  Empresa_2081     Educação     499.76\n",
      "1072  Empresa_1073    Indústria     499.75\n",
      "1257  Empresa_1258       Varejo     499.71\n",
      "2859  Empresa_2860  Alimentação     499.63\n",
      "1054  Empresa_1055        Saúde     499.59\n",
      "\n",
      "Top 5 empresas por CO2 Emissões:\n",
      "           Empresa     Setor  CO2 Emissões\n",
      "1140  Empresa_1141     Saúde       2999.64\n",
      "4618  Empresa_4619  Serviços       2998.64\n",
      "3238  Empresa_3239    Varejo       2997.45\n",
      "1465  Empresa_1466    Varejo       2997.34\n",
      "4347  Empresa_4348  Serviços       2997.11\n",
      "\n",
      "=== Análise de Correlação ===\n"
     ]
    },
    {
     "data": {
      "image/png": "[encoded data removed]",
      "text/plain": [
       "<Figure size 1000x800 with 2 Axes>"
      ]
     },
     "metadata": {},
     "output_type": "display_data"
    },
    {
     "name": "stdout",
     "output_type": "stream",
     "text": [
      "\n",
      "=== Detecção de Outliers ===\n",
      "\n",
      "Outliers em Energia (kWh):\n",
      "Empty DataFrame\n",
      "Columns: [Empresa, Setor, Energia (kWh)]\n",
      "Index: []\n",
      "\n",
      "Outliers em Água (m3):\n",
      "Empty DataFrame\n",
      "Columns: [Empresa, Setor, Água (m3)]\n",
      "Index: []\n",
      "\n",
      "Outliers em CO2 Emissões:\n",
      "Empty DataFrame\n",
      "Columns: [Empresa, Setor, CO2 Emissões]\n",
      "Index: []\n",
      "\n",
      "=== Comparação Estatística entre Setores ===\n",
      "\n",
      "Teste Kruskal-Wallis para Energia (kWh):\n",
      "Estatística H: 6.02\n",
      "p-valor: 0.3047\n",
      "\n",
      "Teste Kruskal-Wallis para Água (m3):\n",
      "Estatística H: 2.39\n",
      "p-valor: 0.7925\n",
      "\n",
      "Teste Kruskal-Wallis para CO2 Emissões:\n",
      "Estatística H: 5.32\n",
      "p-valor: 0.3779\n"
     ]
    }
   ],
   "source": [
    "if __name__ == \"__main__\":\n",
    "    # Supondo que df seja o DataFrame com os dados carregados\n",
    "    print(\"=== Análise Original ===\")\n",
    "    analyze_sector_consumption(df)\n",
    "    identify_top_consumers(df)\n",
    "\n",
    "    print(\"\\n=== Análise de Correlação ===\")\n",
    "    analyze_correlations(df)\n",
    "\n",
    "    print(\"\\n=== Detecção de Outliers ===\")\n",
    "    detect_outliers(df)\n",
    "\n",
    "    print(\"\\n=== Comparação Estatística entre Setores ===\")\n",
    "    compare_sectors(df)"
   ]
  },
  {
   "cell_type": "markdown",
   "metadata": {},
   "source": [
    "#### Primeiras Conclusões:\n",
    "\n",
    "* O consumo energético e as emissões de CO2 são mais elevados nos setores Retail, Indústria, Saúde e Serviços, com as empresas do setor Saúde a destacarem-se no consumo de energia e emissões de CO2;\n",
    "\n",
    "* O consumo de água está mais concentrado nos setores Educação, Indústria e Retail, com a Educação a liderar a utilização de água;\n",
    "\n",
    "* Não há outliers significativos nas métricas de consumo de energia, água e emissões de CO2, o que sugere uma distribuição relativamente uniforme entre as empresas;\n",
    "\n",
    "* A análise estatística indica que não há diferenças significativas entre os setores nas três métricas analisadas, sugerindo um comportamento similar em termos de consumo de energia, água e emissões de CO2 entre os setores."
   ]
  },
  {
   "cell_type": "code",
   "execution_count": 21,
   "metadata": {},
   "outputs": [],
   "source": [
    "def analyze_distributions(df):\n",
    "    metrics = ['Energia (kWh)', 'Água (m3)', 'CO2 Emissões']\n",
    "\n",
    "    for metric in metrics:\n",
    "        # Criar box plot\n",
    "        plt.figure(figsize=(12, 6))\n",
    "        sns.boxplot(x='Setor', y=metric, data=df, palette='viridis')\n",
    "        plt.title(f'Distribuição de {metric} por Setor')\n",
    "        plt.xticks(rotation=45)\n",
    "        plt.show()\n",
    "\n",
    "        # Criar scatter plot (mostra a relação entre as métricas)\n",
    "        plt.figure(figsize=(12, 6))\n",
    "        sns.kdeplot(df[metric], shade=True, color='darkgreen')\n",
    "        plt.title(f'Distribuição de {metric}')\n",
    "        plt.show()\n",
    "\n",
    "        # Exibir resumo estatístico\n",
    "        print(f\"\\nEstatísticas Descritivas para {metric}:\")\n",
    "        print(df.groupby('Setor')[metric].describe())"
   ]
  },
  {
   "cell_type": "code",
   "execution_count": 22,
   "metadata": {},
   "outputs": [],
   "source": [
    "def compare_medians(df):\n",
    "    metrics = ['Energia (kWh)', 'Água (m3)', 'CO2 Emissões']\n",
    "\n",
    "    for metric in metrics:\n",
    "        print(f\"\\nMedianas de {metric} por setor:\")\n",
    "        medians = df.groupby('Setor')[metric].median().sort_values(ascending=False)\n",
    "        print(medians)\n",
    "\n",
    "        # Calcular e imprimir o intervalo interquartil (IQR)\n",
    "        print(f\"\\nIntervalo Interquartil (IQR) de {metric} por setor:\")\n",
    "        iqr = df.groupby('Setor')[metric].apply(lambda x: x.quantile(0.75) - x.quantile(0.25))\n",
    "        print(iqr)"
   ]
  },
  {
   "cell_type": "code",
   "execution_count": 23,
   "metadata": {},
   "outputs": [
    {
     "name": "stdout",
     "output_type": "stream",
     "text": [
      "=== Análise de Distribuições ===\n"
     ]
    },
    {
     "name": "stderr",
     "output_type": "stream",
     "text": [
      "/var/folders/96/6xdzbhyj41xc8sy3w1r5r3wr0000gn/T/ipykernel_64062/890439922.py:7: FutureWarning:\n",
      "\n",
      "\n",
      "\n",
      "Passing `palette` without assigning `hue` is deprecated and will be removed in v0.14.0. Assign the `x` variable to `hue` and set `legend=False` for the same effect.\n",
      "\n",
      "\n"
     ]
    },
    {
     "data": {
      "image/png": "[encoded data removed]",
      "text/plain": [
       "<Figure size 1200x600 with 1 Axes>"
      ]
     },
     "metadata": {},
     "output_type": "display_data"
    },
    {
     "name": "stderr",
     "output_type": "stream",
     "text": [
      "/var/folders/96/6xdzbhyj41xc8sy3w1r5r3wr0000gn/T/ipykernel_64062/890439922.py:14: FutureWarning:\n",
      "\n",
      "\n",
      "\n",
      "`shade` is now deprecated in favor of `fill`; setting `fill=True`.\n",
      "This will become an error in seaborn v0.14.0; please update your code.\n",
      "\n",
      "\n"
     ]
    },
    {
     "data": {
      "image/png": "[encoded data removed]",
      "text/plain": [
       "<Figure size 1200x600 with 1 Axes>"
      ]
     },
     "metadata": {},
     "output_type": "display_data"
    },
    {
     "name": "stdout",
     "output_type": "stream",
     "text": [
      "\n",
      "Estatísticas Descritivas para Energia (kWh):\n",
      "             count         mean          std     min        25%       50%  \\\n",
      "Setor                                                                       \n",
      "Alimentação  841.0  4820.346326  2885.328275  121.66  2261.8700  4610.110   \n",
      "Educação     790.0  5012.179532  2844.455974  101.67  2601.2600  5027.935   \n",
      "Indústria    849.0  5074.482214  2898.356238  102.71  2619.9300  5001.810   \n",
      "Saúde        845.0  4940.869728  2786.943410  107.97  2614.3200  4985.120   \n",
      "Serviços     827.0  4930.121959  2726.435084  100.62  2636.2400  4958.460   \n",
      "Varejo       848.0  5113.261993  2778.831608  107.92  2698.4725  5074.025   \n",
      "\n",
      "                  75%      max  \n",
      "Setor                           \n",
      "Alimentação  7347.780  9981.92  \n",
      "Educação     7508.435  9958.21  \n",
      "Indústria    7640.780  9993.62  \n",
      "Saúde        7226.630  9986.70  \n",
      "Serviços     7163.085  9968.66  \n",
      "Varejo       7531.560  9993.80  \n"
     ]
    },
    {
     "name": "stderr",
     "output_type": "stream",
     "text": [
      "/var/folders/96/6xdzbhyj41xc8sy3w1r5r3wr0000gn/T/ipykernel_64062/890439922.py:7: FutureWarning:\n",
      "\n",
      "\n",
      "\n",
      "Passing `palette` without assigning `hue` is deprecated and will be removed in v0.14.0. Assign the `x` variable to `hue` and set `legend=False` for the same effect.\n",
      "\n",
      "\n"
     ]
    },
    {
     "data": {
      "image/png": "[encoded data removed]",
      "text/plain": [
       "<Figure size 1200x600 with 1 Axes>"
      ]
     },
     "metadata": {},
     "output_type": "display_data"
    },
    {
     "name": "stderr",
     "output_type": "stream",
     "text": [
      "/var/folders/96/6xdzbhyj41xc8sy3w1r5r3wr0000gn/T/ipykernel_64062/890439922.py:14: FutureWarning:\n",
      "\n",
      "\n",
      "\n",
      "`shade` is now deprecated in favor of `fill`; setting `fill=True`.\n",
      "This will become an error in seaborn v0.14.0; please update your code.\n",
      "\n",
      "\n"
     ]
    },
    {
     "data": {
      "image/png": "[encoded data removed]",
      "text/plain": [
       "<Figure size 1200x600 with 1 Axes>"
      ]
     },
     "metadata": {},
     "output_type": "display_data"
    },
    {
     "name": "stdout",
     "output_type": "stream",
     "text": [
      "\n",
      "Estatísticas Descritivas para Água (m3):\n",
      "             count        mean         std    min       25%      50%  \\\n",
      "Setor                                                                  \n",
      "Alimentação  841.0  257.406468  139.009318  10.36  142.1300  249.320   \n",
      "Educação     790.0  256.899063  137.090722  10.12  139.8025  259.435   \n",
      "Indústria    849.0  250.109176  140.196203  10.26  132.1100  242.480   \n",
      "Saúde        845.0  255.785112  139.604944  10.19  139.5700  256.930   \n",
      "Serviços     827.0  250.654039  138.570054  10.68  136.2900  244.860   \n",
      "Varejo       848.0  256.788302  140.902616  10.20  141.7575  253.785   \n",
      "\n",
      "                  75%     max  \n",
      "Setor                          \n",
      "Alimentação  383.9600  499.63  \n",
      "Educação     370.0150  499.76  \n",
      "Indústria    369.8700  499.75  \n",
      "Saúde        366.5000  499.59  \n",
      "Serviços     367.9600  498.87  \n",
      "Varejo       377.8125  499.71  \n"
     ]
    },
    {
     "name": "stderr",
     "output_type": "stream",
     "text": [
      "/var/folders/96/6xdzbhyj41xc8sy3w1r5r3wr0000gn/T/ipykernel_64062/890439922.py:7: FutureWarning:\n",
      "\n",
      "\n",
      "\n",
      "Passing `palette` without assigning `hue` is deprecated and will be removed in v0.14.0. Assign the `x` variable to `hue` and set `legend=False` for the same effect.\n",
      "\n",
      "\n"
     ]
    },
    {
     "data": {
      "image/png": "[encoded data removed]",
      "text/plain": [
       "<Figure size 1200x600 with 1 Axes>"
      ]
     },
     "metadata": {},
     "output_type": "display_data"
    },
    {
     "name": "stderr",
     "output_type": "stream",
     "text": [
      "/var/folders/96/6xdzbhyj41xc8sy3w1r5r3wr0000gn/T/ipykernel_64062/890439922.py:14: FutureWarning:\n",
      "\n",
      "\n",
      "\n",
      "`shade` is now deprecated in favor of `fill`; setting `fill=True`.\n",
      "This will become an error in seaborn v0.14.0; please update your code.\n",
      "\n",
      "\n"
     ]
    },
    {
     "data": {
      "image/png": "[encoded data removed]",
      "text/plain": [
       "<Figure size 1200x600 with 1 Axes>"
      ]
     },
     "metadata": {},
     "output_type": "display_data"
    },
    {
     "name": "stdout",
     "output_type": "stream",
     "text": [
      "\n",
      "Estatísticas Descritivas para CO2 Emissões:\n",
      "             count         mean         std    min       25%       50%  \\\n",
      "Setor                                                                    \n",
      "Alimentação  841.0  1488.135993  857.579452  52.86  715.9500  1474.310   \n",
      "Educação     790.0  1561.786076  839.770564  59.11  840.3300  1553.225   \n",
      "Indústria    849.0  1494.268622  836.591497  51.51  776.9700  1497.820   \n",
      "Saúde        845.0  1475.098225  878.297824  51.12  688.2800  1453.570   \n",
      "Serviços     827.0  1517.344643  847.619766  54.51  834.3450  1480.680   \n",
      "Varejo       848.0  1513.928007  836.020836  57.72  776.0725  1531.880   \n",
      "\n",
      "                   75%      max  \n",
      "Setor                            \n",
      "Alimentação  2224.5900  2996.41  \n",
      "Educação     2304.2100  2992.63  \n",
      "Indústria    2213.1200  2992.39  \n",
      "Saúde        2245.6800  2999.64  \n",
      "Serviços     2288.7450  2998.64  \n",
      "Varejo       2250.1175  2997.45  \n",
      "\n",
      "=== Comparação de Medianas ===\n",
      "\n",
      "Medianas de Energia (kWh) por setor:\n",
      "Setor\n",
      "Varejo         5074.025\n",
      "Educação       5027.935\n",
      "Indústria      5001.810\n",
      "Saúde          4985.120\n",
      "Serviços       4958.460\n",
      "Alimentação    4610.110\n",
      "Name: Energia (kWh), dtype: float64\n",
      "\n",
      "Intervalo Interquartil (IQR) de Energia (kWh) por setor:\n",
      "Setor\n",
      "Alimentação    5085.9100\n",
      "Educação       4907.1750\n",
      "Indústria      5020.8500\n",
      "Saúde          4612.3100\n",
      "Serviços       4526.8450\n",
      "Varejo         4833.0875\n",
      "Name: Energia (kWh), dtype: float64\n",
      "\n",
      "Medianas de Água (m3) por setor:\n",
      "Setor\n",
      "Educação       259.435\n",
      "Saúde          256.930\n",
      "Varejo         253.785\n",
      "Alimentação    249.320\n",
      "Serviços       244.860\n",
      "Indústria      242.480\n",
      "Name: Água (m3), dtype: float64\n",
      "\n",
      "Intervalo Interquartil (IQR) de Água (m3) por setor:\n",
      "Setor\n",
      "Alimentação    241.8300\n",
      "Educação       230.2125\n",
      "Indústria      237.7600\n",
      "Saúde          226.9300\n",
      "Serviços       231.6700\n",
      "Varejo         236.0550\n",
      "Name: Água (m3), dtype: float64\n",
      "\n",
      "Medianas de CO2 Emissões por setor:\n",
      "Setor\n",
      "Educação       1553.225\n",
      "Varejo         1531.880\n",
      "Indústria      1497.820\n",
      "Serviços       1480.680\n",
      "Alimentação    1474.310\n",
      "Saúde          1453.570\n",
      "Name: CO2 Emissões, dtype: float64\n",
      "\n",
      "Intervalo Interquartil (IQR) de CO2 Emissões por setor:\n",
      "Setor\n",
      "Alimentação    1508.640\n",
      "Educação       1463.880\n",
      "Indústria      1436.150\n",
      "Saúde          1557.400\n",
      "Serviços       1454.400\n",
      "Varejo         1474.045\n",
      "Name: CO2 Emissões, dtype: float64\n"
     ]
    }
   ],
   "source": [
    "if __name__ == \"__main__\":\n",
    "    print(\"=== Análise de Distribuições ===\")\n",
    "    analyze_distributions(df)\n",
    "\n",
    "    print(\"\\n=== Comparação de Medianas ===\")\n",
    "    compare_medians(df)"
   ]
  },
  {
   "cell_type": "markdown",
   "metadata": {},
   "source": [
    "### Conclusões Gerais:\n",
    "\n",
    "*   O Retalho e a Educação apresentam, de maneira geral, os maiores valores médios e medianos de consumo de energia, água e emissões de CO2, o que pode refletir um maior volume de atividades nessas áreas.\n",
    "\n",
    "*   O setor da Alimentação tem um consumo de energia com maior dispersão (maior desvio padrão), o que pode indicar um consumo muito variado dentro deste setor.\n",
    "\n",
    "*   A Saúde tem as menores medianas para energia e CO2, sugerindo que este setor possui um consumo e emissões mais baixos em comparação com outros setores.\n",
    "\n",
    "*   A Indústria apresenta um padrão de consumo de água mais uniforme, o que pode indicar uma gestão mais eficiente desse recurso.\n",
    "\n",
    "*   Intervalo Interquartil (IQR) indica uma grande variação no consumo de energia em setores como Alimentação, enquanto o setor da Saúde apresenta uma variação mais controlada."
   ]
  },
  {
   "cell_type": "markdown",
   "metadata": {},
   "source": [
    "### Data Visualization:"
   ]
  },
  {
   "cell_type": "markdown",
   "metadata": {},
   "source": [
    "### Tratamento de dados:"
   ]
  },
  {
   "cell_type": "code",
   "execution_count": 24,
   "metadata": {},
   "outputs": [
    {
     "name": "stdout",
     "output_type": "stream",
     "text": [
      "Média de Energia por Setor:\n",
      "         Setor  Energia (kWh)\n",
      "0  Alimentação    4820.346326\n",
      "1     Educação    5012.179532\n",
      "2    Indústria    5074.482214\n",
      "3        Saúde    4940.869728\n",
      "4     Serviços    4930.121959\n",
      "5       Varejo    5113.261993\n",
      "Mediana de Energia por Setor:\n",
      "         Setor  Energia (kWh)\n",
      "0  Alimentação       4610.110\n",
      "1     Educação       5027.935\n",
      "2    Indústria       5001.810\n",
      "3        Saúde       4985.120\n",
      "4     Serviços       4958.460\n",
      "5       Varejo       5074.025\n",
      "Desvio Padrão de Energia por Setor:\n",
      "         Setor  Energia (kWh)\n",
      "0  Alimentação    2885.328275\n",
      "1     Educação    2844.455974\n",
      "2    Indústria    2898.356238\n",
      "3        Saúde    2786.943410\n",
      "4     Serviços    2726.435084\n",
      "5       Varejo    2778.831608\n",
      "Intervalo Interquartil (IQR) de Energia por Setor:\n",
      "Setor\n",
      "Alimentação    5085.9100\n",
      "Educação       4907.1750\n",
      "Indústria      5020.8500\n",
      "Saúde          4612.3100\n",
      "Serviços       4526.8450\n",
      "Varejo         4833.0875\n",
      "Name: Energia (kWh), dtype: float64\n"
     ]
    }
   ],
   "source": [
    "# Medidas para a energia:\n",
    "\n",
    "# Calcular a média de energia por setor\n",
    "energia_media = df.groupby('Setor')['Energia (kWh)'].mean().reset_index()\n",
    "\n",
    "# Calcular a mediana de energia por setor\n",
    "energia_mediana = df.groupby('Setor')['Energia (kWh)'].median().reset_index()\n",
    "\n",
    "# Calcular o desvio padrão de energia por setor\n",
    "energia_std = df.groupby('Setor')['Energia (kWh)'].std().reset_index()\n",
    "\n",
    "# Calcular o intervalo interquartil (IQR)\n",
    "q1 = df.groupby('Setor')['Energia (kWh)'].quantile(0.25)\n",
    "q3 = df.groupby('Setor')['Energia (kWh)'].quantile(0.75)\n",
    "iqr_energia = q3 - q1\n",
    "\n",
    "# Exibir os resultados\n",
    "print(\"Média de Energia por Setor:\")\n",
    "print(energia_media)\n",
    "print(\"Mediana de Energia por Setor:\")\n",
    "print(energia_mediana)\n",
    "print(\"Desvio Padrão de Energia por Setor:\")\n",
    "print(energia_std)\n",
    "print(\"Intervalo Interquartil (IQR) de Energia por Setor:\")\n",
    "print(iqr_energia)"
   ]
  },
  {
   "cell_type": "code",
   "execution_count": 25,
   "metadata": {},
   "outputs": [
    {
     "name": "stdout",
     "output_type": "stream",
     "text": [
      "Média de Água por Setor:\n",
      "         Setor   Água (m3)\n",
      "0  Alimentação  257.406468\n",
      "1     Educação  256.899063\n",
      "2    Indústria  250.109176\n",
      "3        Saúde  255.785112\n",
      "4     Serviços  250.654039\n",
      "5       Varejo  256.788302\n",
      "Mediana de Água por Setor:\n",
      "         Setor  Água (m3)\n",
      "0  Alimentação    249.320\n",
      "1     Educação    259.435\n",
      "2    Indústria    242.480\n",
      "3        Saúde    256.930\n",
      "4     Serviços    244.860\n",
      "5       Varejo    253.785\n",
      "Desvio Padrão de Água por Setor:\n",
      "         Setor   Água (m3)\n",
      "0  Alimentação  139.009318\n",
      "1     Educação  137.090722\n",
      "2    Indústria  140.196203\n",
      "3        Saúde  139.604944\n",
      "4     Serviços  138.570054\n",
      "5       Varejo  140.902616\n",
      "Intervalo Interquartil (IQR) de Água por Setor:\n",
      "Setor\n",
      "Alimentação    241.8300\n",
      "Educação       230.2125\n",
      "Indústria      237.7600\n",
      "Saúde          226.9300\n",
      "Serviços       231.6700\n",
      "Varejo         236.0550\n",
      "Name: Água (m3), dtype: float64\n"
     ]
    }
   ],
   "source": [
    "# Calcular a média de água por setor\n",
    "agua_media = df.groupby('Setor')['Água (m3)'].mean().reset_index()\n",
    "\n",
    "# Calcular a mediana de água por setor\n",
    "agua_mediana = df.groupby('Setor')['Água (m3)'].median().reset_index()\n",
    "\n",
    "# Calcular o desvio padrão de água por setor\n",
    "agua_std = df.groupby('Setor')['Água (m3)'].std().reset_index()\n",
    "\n",
    "# Calcular o intervalo interquartil (IQR) para água\n",
    "q1_agua = df.groupby('Setor')['Água (m3)'].quantile(0.25)\n",
    "q3_agua = df.groupby('Setor')['Água (m3)'].quantile(0.75)\n",
    "\n",
    "iqr_agua = q3_agua - q1_agua\n",
    "\n",
    "# Exibir os resultados\n",
    "print(\"Média de Água por Setor:\")\n",
    "print(agua_media)\n",
    "print(\"Mediana de Água por Setor:\")\n",
    "print(agua_mediana)\n",
    "print(\"Desvio Padrão de Água por Setor:\")\n",
    "print(agua_std)\n",
    "print(\"Intervalo Interquartil (IQR) de Água por Setor:\")\n",
    "print(iqr_agua)"
   ]
  },
  {
   "cell_type": "code",
   "execution_count": 26,
   "metadata": {},
   "outputs": [
    {
     "name": "stdout",
     "output_type": "stream",
     "text": [
      "Média de CO2 Emissões por Setor:\n",
      "         Setor  CO2 Emissões\n",
      "0  Alimentação   1488.135993\n",
      "1     Educação   1561.786076\n",
      "2    Indústria   1494.268622\n",
      "3        Saúde   1475.098225\n",
      "4     Serviços   1517.344643\n",
      "5       Varejo   1513.928007\n",
      "Mediana de CO2 Emissões por Setor:\n",
      "         Setor  CO2 Emissões\n",
      "0  Alimentação      1474.310\n",
      "1     Educação      1553.225\n",
      "2    Indústria      1497.820\n",
      "3        Saúde      1453.570\n",
      "4     Serviços      1480.680\n",
      "5       Varejo      1531.880\n",
      "Desvio Padrão de CO2 Emissões por Setor:\n",
      "         Setor  CO2 Emissões\n",
      "0  Alimentação    857.579452\n",
      "1     Educação    839.770564\n",
      "2    Indústria    836.591497\n",
      "3        Saúde    878.297824\n",
      "4     Serviços    847.619766\n",
      "5       Varejo    836.020836\n",
      "Intervalo Interquartil (IQR) de CO2 Emissões por Setor:\n",
      "Setor\n",
      "Alimentação    1508.640\n",
      "Educação       1463.880\n",
      "Indústria      1436.150\n",
      "Saúde          1557.400\n",
      "Serviços       1454.400\n",
      "Varejo         1474.045\n",
      "Name: CO2 Emissões, dtype: float64\n"
     ]
    }
   ],
   "source": [
    "# Calcular a média de CO2 Emissões por setor\n",
    "co2_media = df.groupby('Setor')['CO2 Emissões'].mean().reset_index()\n",
    "\n",
    "# Calcular a mediana de CO2 Emissões por setor\n",
    "co2_mediana = df.groupby('Setor')['CO2 Emissões'].median().reset_index()\n",
    "\n",
    "# Calcular o desvio padrão de CO2 Emissões por setor\n",
    "co2_std = df.groupby('Setor')['CO2 Emissões'].std().reset_index()\n",
    "\n",
    "# Calcular o intervalo interquartil (IQR) para CO2 Emissões\n",
    "q1_co2 = df.groupby('Setor')['CO2 Emissões'].quantile(0.25)\n",
    "q3_co2 = df.groupby('Setor')['CO2 Emissões'].quantile(0.75)\n",
    "\n",
    "iqr_co2 = q3_co2 - q1_co2\n",
    "\n",
    "# Exibir os resultados\n",
    "print(\"Média de CO2 Emissões por Setor:\")\n",
    "print(co2_media)\n",
    "print(\"Mediana de CO2 Emissões por Setor:\")\n",
    "print(co2_mediana)\n",
    "print(\"Desvio Padrão de CO2 Emissões por Setor:\")\n",
    "print(co2_std)\n",
    "print(\"Intervalo Interquartil (IQR) de CO2 Emissões por Setor:\")\n",
    "print(iqr_co2)"
   ]
  },
  {
   "cell_type": "code",
   "execution_count": 27,
   "metadata": {},
   "outputs": [],
   "source": [
    "def analyze_sector_consumption(df, metrica):\n",
    "    sector_analysis = df.groupby('Setor').agg({metrica: 'mean'}).round(2)\n",
    "    fig = px.bar(sector_analysis,\n",
    "                 x=sector_analysis.index,\n",
    "                 y=metrica,\n",
    "                 title=f'Consumo Médio de {metrica} por Setor',\n",
    "                 labels={metrica: metrica.replace(' ', ' ').title()},\n",
    "                 color_discrete_sequence=[\"darkgreen\"])\n",
    "    return fig\n",
    "\n",
    "def identify_top_consumers(df, metrica):\n",
    "    top_n = 5\n",
    "    top_consumers = df.nlargest(top_n, metrica)[['Empresa', 'Setor', metrica]]\n",
    "    \n",
    "    fig = px.bar(\n",
    "        top_consumers,\n",
    "        x='Empresa',\n",
    "        y=metrica,\n",
    "        title=f'Top {top_n} Consumidores de {metrica}',\n",
    "        labels={metrica: metrica.replace(' ', ' ').title()},\n",
    "        color_discrete_sequence=[\"teal\"]\n",
    "    )\n",
    "    \n",
    "    return fig\n",
    "\n",
    "def analyze_correlations(df):\n",
    "    correlation_matrix = df[['Energia (kWh)', 'Água (m3)', 'CO2 Emissões']].corr()\n",
    "    fig = px.imshow(correlation_matrix,\n",
    "                    title='Correlação entre as Métricas de Consumo',\n",
    "                    color_continuous_scale='PRGn')\n",
    "    return fig"
   ]
  },
  {
   "cell_type": "code",
   "execution_count": null,
   "metadata": {},
   "outputs": [],
   "source": []
  },
  {
   "cell_type": "code",
   "execution_count": null,
   "metadata": {},
   "outputs": [],
   "source": []
  },
  {
   "cell_type": "code",
   "execution_count": null,
   "metadata": {},
   "outputs": [],
   "source": []
  },
  {
   "cell_type": "code",
   "execution_count": null,
   "metadata": {},
   "outputs": [],
   "source": []
  },
  {
   "cell_type": "markdown",
   "metadata": {},
   "source": []
  }
 ],
 "metadata": {
  "kernelspec": {
   "display_name": "venv",
   "language": "python",
   "name": "python3"
  },
  "language_info": {
   "codemirror_mode": {
    "name": "ipython",
    "version": 3
   },
   "file_extension": ".py",
   "mimetype": "text/x-python",
   "name": "python",
   "nbconvert_exporter": "python",
   "pygments_lexer": "ipython3",
   "version": "3.11.7"
  }
 },
 "nbformat": 4,
 "nbformat_minor": 2
}
